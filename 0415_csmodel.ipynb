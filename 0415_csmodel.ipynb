{
 "cells": [
  {
   "cell_type": "markdown",
   "metadata": {},
   "source": [
    "## Data Preporcessing"
   ]
  },
  {
   "cell_type": "code",
   "execution_count": 1,
   "metadata": {
    "scrolled": true
   },
   "outputs": [
    {
     "name": "stderr",
     "output_type": "stream",
     "text": [
      "Using TensorFlow backend.\n"
     ]
    },
    {
     "name": "stdout",
     "output_type": "stream",
     "text": [
      "(400000, 5) (400000, 1)\n"
     ]
    }
   ],
   "source": [
    "# -*- coding: utf-8 -*-\n",
    "\"\"\"\n",
    "Created on Thu Apr  9 23:22:06 2020\n",
    "\n",
    "@author: pmzha\n",
    "\"\"\"\n",
    "import functions as f\n",
    "from tensorflow.python.keras import backend as k\n",
    "import csv\n",
    "import os\n",
    "import pandas as pd\n",
    "import numpy as np\n",
    "from tensorflow.keras.preprocessing.text import Tokenizer\n",
    "from sklearn.model_selection import train_test_split\n",
    "from sklearn.preprocessing import OneHotEncoder\n",
    "from numpy import argmax\n",
    "\n",
    "\n",
    "'''convert_to_dt'''\n",
    "#source_path= \"D:/USC/Lab/ChamSim/data/654.out\"\n",
    "#f.convert_to_dt(source_path)\n",
    "\n",
    "'''read_dt'''\n",
    "source_path= \"./dt.csv\"\n",
    "#source_path= \"D:/USC/Lab/ChamSim/data/dt.csv\"\n",
    "dataset_dt = pd.read_csv(source_path, header=None, index_col=None)\n",
    "dataset_dt_ls=list(dataset_dt[0].astype(str))\n",
    "\n",
    "'''tokenize'''\n",
    "tokenizer = Tokenizer()\n",
    "tokenizer.fit_on_texts(dataset_dt_ls)\n",
    "encoded_final = tokenizer.texts_to_sequences([' '.join(dataset_dt_ls)])[0]\n",
    "final_vocab_size = len(tokenizer.word_index) + 1\n",
    "'''input sequence window'''\n",
    "look_back = 5\n",
    "sequences = f.create_windowed_dataset(encoded_final, look_back)\n",
    "\n",
    "'''Training data preprocessing'''\n",
    "X, y = sequences[600000:1000000, :-1], sequences[600000:1000000, -1]\n",
    "y = y.reshape(len(y), 1)\n",
    "\n",
    "'''binay'''\n",
    "y_binay=f.convert_to_binary(data=y)\n",
    "print(X.shape,y.shape)"
   ]
  },
  {
   "cell_type": "code",
   "execution_count": 2,
   "metadata": {},
   "outputs": [
    {
     "name": "stdout",
     "output_type": "stream",
     "text": [
      "X shape: (240000, 5) (80000, 5) (80000, 5)\n",
      "y shape: (240000, 16) (80000, 16) (80000, 16)\n"
     ]
    }
   ],
   "source": [
    "'''split'''\n",
    "'''val'''\n",
    "test_ratio=0.2\n",
    "X_train0, X_test = train_test_split(X, test_size=test_ratio, shuffle=False)\n",
    "y_train0, y_test = train_test_split(y_binay, test_size=test_ratio, shuffle=False)\n",
    "\n",
    "'''test'''\n",
    "test_ratio=0.25\n",
    "X_train, X_val = train_test_split(X_train0, test_size=test_ratio, shuffle=False)\n",
    "y_train, y_val = train_test_split(y_train0, test_size=test_ratio, shuffle=False)\n",
    "\n",
    "print(\"X shape:\",X_train.shape,X_val.shape,X_test.shape)\n",
    "print(\"y shape:\",y_train.shape,y_val.shape,y_test.shape)"
   ]
  },
  {
   "cell_type": "markdown",
   "metadata": {},
   "source": [
    "## Train Model"
   ]
  },
  {
   "cell_type": "code",
   "execution_count": 3,
   "metadata": {},
   "outputs": [
    {
     "name": "stdout",
     "output_type": "stream",
     "text": [
      "Model: \"sequential_1\"\n",
      "_________________________________________________________________\n",
      "Layer (type)                 Output Shape              Param #   \n",
      "=================================================================\n",
      "embedding_1 (Embedding)      (None, 5, 10)             39170     \n",
      "_________________________________________________________________\n",
      "lstm_1 (LSTM)                (None, 50)                12200     \n",
      "_________________________________________________________________\n",
      "dropout_1 (Dropout)          (None, 50)                0         \n",
      "_________________________________________________________________\n",
      "dense_1 (Dense)              (None, 20)                1020      \n",
      "_________________________________________________________________\n",
      "dropout_2 (Dropout)          (None, 20)                0         \n",
      "_________________________________________________________________\n",
      "dense_2 (Dense)              (None, 16)                336       \n",
      "=================================================================\n",
      "Total params: 52,726\n",
      "Trainable params: 52,726\n",
      "Non-trainable params: 0\n",
      "_________________________________________________________________\n"
     ]
    },
    {
     "name": "stderr",
     "output_type": "stream",
     "text": [
      "/home/pengmiao/.local/lib/python3.7/site-packages/tensorflow_core/python/framework/indexed_slices.py:433: UserWarning: Converting sparse IndexedSlices to a dense Tensor of unknown shape. This may consume a large amount of memory.\n",
      "  \"Converting sparse IndexedSlices to a dense Tensor of unknown shape. \"\n"
     ]
    },
    {
     "name": "stdout",
     "output_type": "stream",
     "text": [
      "Train on 240000 samples, validate on 80000 samples\n",
      "Epoch 1/20\n",
      "240000/240000 [==============================] - 16s 68us/step - loss: 0.2850 - accuracy: 0.8954 - val_loss: 0.2291 - val_accuracy: 0.9151\n",
      "Epoch 2/20\n",
      "240000/240000 [==============================] - 16s 65us/step - loss: 0.2253 - accuracy: 0.9158 - val_loss: 0.1790 - val_accuracy: 0.9151\n",
      "Epoch 3/20\n",
      "240000/240000 [==============================] - 16s 67us/step - loss: 0.1672 - accuracy: 0.9159 - val_loss: 0.1592 - val_accuracy: 0.9172\n",
      "Epoch 4/20\n",
      "240000/240000 [==============================] - 16s 67us/step - loss: 0.1596 - accuracy: 0.9161 - val_loss: 0.1579 - val_accuracy: 0.9172\n",
      "Epoch 5/20\n",
      "240000/240000 [==============================] - 16s 67us/step - loss: 0.1581 - accuracy: 0.9166 - val_loss: 0.1570 - val_accuracy: 0.9178\n",
      "Epoch 6/20\n",
      "240000/240000 [==============================] - 16s 68us/step - loss: 0.1558 - accuracy: 0.9174 - val_loss: 0.1533 - val_accuracy: 0.9176\n",
      "Epoch 7/20\n",
      "240000/240000 [==============================] - 16s 66us/step - loss: 0.1530 - accuracy: 0.9169 - val_loss: 0.1512 - val_accuracy: 0.9176\n",
      "Epoch 8/20\n",
      "240000/240000 [==============================] - 16s 67us/step - loss: 0.1513 - accuracy: 0.9171 - val_loss: 0.1500 - val_accuracy: 0.9177\n",
      "Epoch 9/20\n",
      "240000/240000 [==============================] - 16s 67us/step - loss: 0.1497 - accuracy: 0.9175 - val_loss: 0.1487 - val_accuracy: 0.9181\n",
      "Epoch 10/20\n",
      "240000/240000 [==============================] - 16s 67us/step - loss: 0.1484 - accuracy: 0.9179 - val_loss: 0.1480 - val_accuracy: 0.9182\n",
      "Epoch 11/20\n",
      "240000/240000 [==============================] - 16s 67us/step - loss: 0.1475 - accuracy: 0.9182 - val_loss: 0.1474 - val_accuracy: 0.9182\n",
      "Epoch 12/20\n",
      "240000/240000 [==============================] - 17s 69us/step - loss: 0.1468 - accuracy: 0.9182 - val_loss: 0.1470 - val_accuracy: 0.9181\n",
      "Epoch 13/20\n",
      "240000/240000 [==============================] - 16s 66us/step - loss: 0.1462 - accuracy: 0.9182 - val_loss: 0.1464 - val_accuracy: 0.9187\n",
      "Epoch 14/20\n",
      "240000/240000 [==============================] - 16s 66us/step - loss: 0.1456 - accuracy: 0.9186 - val_loss: 0.1460 - val_accuracy: 0.9187\n",
      "Epoch 15/20\n",
      "240000/240000 [==============================] - 16s 65us/step - loss: 0.1450 - accuracy: 0.9191 - val_loss: 0.1456 - val_accuracy: 0.9190\n",
      "Epoch 16/20\n",
      "240000/240000 [==============================] - 16s 65us/step - loss: 0.1446 - accuracy: 0.9192 - val_loss: 0.1452 - val_accuracy: 0.9191\n",
      "Epoch 17/20\n",
      "240000/240000 [==============================] - 16s 66us/step - loss: 0.1442 - accuracy: 0.9193 - val_loss: 0.1448 - val_accuracy: 0.9193\n",
      "Epoch 18/20\n",
      "240000/240000 [==============================] - 16s 65us/step - loss: 0.1437 - accuracy: 0.9195 - val_loss: 0.1442 - val_accuracy: 0.9194\n",
      "Epoch 19/20\n",
      "240000/240000 [==============================] - 15s 65us/step - loss: 0.1432 - accuracy: 0.9195 - val_loss: 0.1437 - val_accuracy: 0.9199\n",
      "Epoch 20/20\n",
      "240000/240000 [==============================] - 16s 65us/step - loss: 0.1427 - accuracy: 0.9197 - val_loss: 0.1430 - val_accuracy: 0.9208\n"
     ]
    }
   ],
   "source": [
    "from my_model import my_model\n",
    "'''train model'''\n",
    "model_file_name='my_model.h5'\n",
    "embedding_dim=10\n",
    "i_dim=look_back\n",
    "o_dim=y_train.shape[1]\n",
    "batch_size=256\n",
    "num_epochs=20\n",
    "model_ = my_model(final_vocab_size, batch_size,embedding_dim, i_dim, o_dim)\n",
    "history=model_.train(X_train, y_train,X_val, y_val, num_epochs, batch_size)\n",
    "model_.model.save(model_file_name)"
   ]
  },
  {
   "cell_type": "code",
   "execution_count": 5,
   "metadata": {},
   "outputs": [
    {
     "data": {
      "text/plain": [
       "<matplotlib.legend.Legend at 0x7fd0dc582780>"
      ]
     },
     "execution_count": 5,
     "metadata": {},
     "output_type": "execute_result"
    },
    {
     "data": {
      "image/png": "[encoded data removed]",
      "text/plain": [
       "<Figure size 500x300 with 1 Axes>"
      ]
     },
     "metadata": {
      "needs_background": "light"
     },
     "output_type": "display_data"
    },
    {
     "data": {
      "image/png": "[encoded data removed]",
      "text/plain": [
       "<Figure size 500x300 with 1 Axes>"
      ]
     },
     "metadata": {
      "needs_background": "light"
     },
     "output_type": "display_data"
    }
   ],
   "source": [
    "import matplotlib.pyplot as plt\n",
    "fig1 = plt.figure(dpi=50, figsize=(10, 6))\n",
    "plt.plot(history.history['loss'], label='Training loss')\n",
    "plt.plot(history.history['val_loss'], label='Validation loss')\n",
    "plt.xlabel(\"Epoch\")\n",
    "#plt.ylabel(\"Training loss\")\n",
    "plt.legend(loc=\"best\")\n",
    "fig2 = plt.figure(dpi=50, figsize=(10, 6))\n",
    "plt.plot(history.history['accuracy'], label='Training accuracy')\n",
    "plt.plot(history.history['val_accuracy'], label='Validation accuray')\n",
    "plt.xlabel(\"Epoch\")\n",
    "plt.legend(loc=\"best\")"
   ]
  },
  {
   "cell_type": "markdown",
   "metadata": {},
   "source": [
    "## load model"
   ]
  },
  {
   "cell_type": "code",
   "execution_count": 31,
   "metadata": {},
   "outputs": [],
   "source": [
    "'''\n",
    "from tensorflow.keras.models import load_model\n",
    "model_file_name='my_model.h5'\n",
    "model_ = load_model(model_file_name)\n",
    "'''"
   ]
  },
  {
   "cell_type": "code",
   "execution_count": null,
   "metadata": {},
   "outputs": [],
   "source": [
    "y_pred = model_.predict(X_test)\n",
    "y_pred[y_pred >= 0.5] = 1\n",
    "y_pred[y_pred < 0.5] = 0\n",
    "aaaaa = np.packbits(np.array(y_test, dtype=np.bool).reshape(-1, 2, 8)[:, ::-1]).view(np.uint16)\n",
    "bbbbb = np.packbits(np.array(y_pred, dtype=np.bool).reshape(-1, 2, 8)[:, ::-1]).view(np.uint16)"
   ]
  },
  {
   "cell_type": "code",
   "execution_count": null,
   "metadata": {},
   "outputs": [],
   "source": [
    "print(aaaaa[100:200])\n",
    "print(bbbbb[100:200])"
   ]
  },
  {
   "cell_type": "code",
   "execution_count": null,
   "metadata": {},
   "outputs": [],
   "source": [
    "from sklearn.metrics import accuracy_score\n",
    "accuracy = accuracy_score(np.array(aaaaa), np.array(bbbbb))\n",
    "print(accuracy)"
   ]
  }
 ],
 "metadata": {
  "kernelspec": {
   "display_name": "Python 3",
   "language": "python",
   "name": "python3"
  },
  "language_info": {
   "codemirror_mode": {
    "name": "ipython",
    "version": 3
   },
   "file_extension": ".py",
   "mimetype": "text/x-python",
   "name": "python",
   "nbconvert_exporter": "python",
   "pygments_lexer": "ipython3",
   "version": "3.7.3"
  }
 },
 "nbformat": 4,
 "nbformat_minor": 4
}
